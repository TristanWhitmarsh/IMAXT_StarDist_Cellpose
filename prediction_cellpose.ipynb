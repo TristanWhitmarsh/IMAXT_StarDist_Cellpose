{
 "cells": [
  {
   "cell_type": "markdown",
   "id": "8afeb2f7-770e-460b-92da-5410235dea03",
   "metadata": {},
   "source": [
    "This example is derived from: https://cellpose.readthedocs.io/en/latest/notebook.html"
   ]
  },
  {
   "cell_type": "code",
   "execution_count": null,
   "id": "21840deb-a481-4caf-be28-090d6acef9c8",
   "metadata": {},
   "outputs": [],
   "source": [
    "import rand_cmap\n",
    "new_cmap = rand_cmap.rand_cmap(1000, type='bright', first_color_black=True, last_color_black=False, verbose=False)"
   ]
  },
  {
   "cell_type": "code",
   "execution_count": null,
   "id": "bc946648-5907-4fcc-911b-df84bb069490",
   "metadata": {},
   "outputs": [],
   "source": [
    "import numpy as np\n",
    "import matplotlib.pyplot as plt\n",
    "from cellpose import models\n",
    "from cellpose.io import imread\n",
    "\n",
    "# model_type='cyto' or 'nuclei' or 'cyto2'\n",
    "# model = models.Cellpose(model_type='nuclei')\n",
    "# model = models.CellposeModel(pretrained_model='./models/cellpose/cellpose_residual_on_style_on_concatenation_off_train_2022_10_31_22_08_39.685842')\n",
    "model = models.CellposeModel(pretrained_model='./models/cellpose/cellpose_residual_on_style_on_concatenation_off_train_2023_01_20_16_55_32.278459')\n",
    "\n",
    "# list of files\n",
    "# PUT PATH TO YOUR FILES HERE!\n",
    "files = ['test.tif']\n",
    "\n",
    "imgs = [imread(f) for f in files]\n",
    "nimg = len(imgs)\n",
    "\n",
    "# define CHANNELS to run segementation on\n",
    "# grayscale=0, R=1, G=2, B=3\n",
    "# channels = [cytoplasm, nucleus]\n",
    "# if NUCLEUS channel does not exist, set the second channel to 0\n",
    "channels = [[0,0]]\n",
    "# IF ALL YOUR IMAGES ARE THE SAME TYPE, you can give a list with 2 elements\n",
    "# channels = [0,0] # IF YOU HAVE GRAYSCALE\n",
    "# channels = [2,3] # IF YOU HAVE G=cytoplasm and B=nucleus\n",
    "# channels = [2,1] # IF YOU HAVE G=cytoplasm and R=nucleus\n",
    "\n",
    "# if diameter is set to None, the size of the cells is estimated on a per image basis\n",
    "# you can set the average cell `diameter` in pixels yourself (recommended)\n",
    "# diameter can be a list or a single number for all images\n",
    "\n",
    "masks, flows, styles = model.eval(imgs, diameter=None, channels=channels)"
   ]
  },
  {
   "cell_type": "code",
   "execution_count": null,
   "id": "dea33c6b-006e-4880-8b73-f7adc1d80916",
   "metadata": {},
   "outputs": [],
   "source": [
    "fig, axes = plt.subplots(nrows=1, ncols=2, figsize=(10, 5))\n",
    "axes[0].imshow(imgs[0], cmap=plt.get_cmap('gray'), interpolation=\"nearest\")\n",
    "axes[0].axis(\"off\")\n",
    "axes[0].set_title(\"Image\")\n",
    "axes[1].imshow(masks[0], cmap=new_cmap, interpolation=\"nearest\")\n",
    "axes[1].axis(\"off\")\n",
    "axes[1].set_title(\"Prediction\")\n",
    "fig.tight_layout()"
   ]
  }
 ],
 "metadata": {
  "kernelspec": {
   "display_name": "Python 3 (ipykernel)",
   "language": "python",
   "name": "python3"
  },
  "language_info": {
   "codemirror_mode": {
    "name": "ipython",
    "version": 3
   },
   "file_extension": ".py",
   "mimetype": "text/x-python",
   "name": "python",
   "nbconvert_exporter": "python",
   "pygments_lexer": "ipython3",
   "version": "3.9.6"
  }
 },
 "nbformat": 4,
 "nbformat_minor": 5
}
