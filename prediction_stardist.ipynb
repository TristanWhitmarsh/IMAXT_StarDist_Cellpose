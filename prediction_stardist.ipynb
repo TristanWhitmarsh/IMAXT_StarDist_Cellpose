{
 "cells": [
  {
   "cell_type": "markdown",
   "metadata": {},
   "source": [
    "This example is derived from: https://github.com/stardist/stardist/blob/master/examples/2D/3_prediction.ipynb"
   ]
  },
  {
   "cell_type": "code",
   "execution_count": null,
   "metadata": {},
   "outputs": [],
   "source": [
    "import rand_cmap\n",
    "new_cmap = rand_cmap.rand_cmap(1000, type='bright', first_color_black=True, last_color_black=False, verbose=False)"
   ]
  },
  {
   "cell_type": "code",
   "execution_count": null,
   "metadata": {},
   "outputs": [],
   "source": [
    "from __future__ import print_function, unicode_literals, absolute_import, division\n",
    "import sys\n",
    "import numpy as np\n",
    "import matplotlib\n",
    "matplotlib.rcParams[\"image.interpolation\"] = None\n",
    "import matplotlib.pyplot as plt\n",
    "%matplotlib inline\n",
    "%config InlineBackend.figure_format = 'retina'\n",
    "\n",
    "from glob import glob\n",
    "from tifffile import imread\n",
    "from csbdeep.utils import Path, normalize\n",
    "from csbdeep.io import save_tiff_imagej_compatible\n",
    "\n",
    "from stardist import random_label_cmap, _draw_polygons, export_imagej_rois\n",
    "from stardist.models import StarDist2D\n",
    "\n",
    "np.random.seed(6)\n",
    "lbl_cmap = random_label_cmap()"
   ]
  },
  {
   "cell_type": "code",
   "execution_count": null,
   "metadata": {},
   "outputs": [],
   "source": [
    "X = sorted(['test.tif'])\n",
    "X = list(map(imread,X))\n",
    "\n",
    "n_channel = 1 if X[0].ndim == 2 else X[0].shape[-1]\n",
    "axis_norm = (0,1)   # normalize channels independently\n",
    "# axis_norm = (0,1,2) # normalize channels jointly\n",
    "if n_channel > 1:\n",
    "    print(\"Normalizing image channels %s.\" % ('jointly' if axis_norm is None or 2 in axis_norm else 'independently'))\n"
   ]
  },
  {
   "cell_type": "code",
   "execution_count": null,
   "metadata": {},
   "outputs": [],
   "source": [
    "demo_model = False\n",
    "\n",
    "if demo_model:\n",
    "    print (\n",
    "        \"NOTE: This is loading a previously trained demo model!\\n\"\n",
    "        \"      Please set the variable 'demo_model = False' to load your own trained model.\",\n",
    "        file=sys.stderr, flush=True\n",
    "    )\n",
    "    #model = StarDist2D.from_pretrained('2D_demo')\n",
    "    #model = StarDist2D.from_pretrained('2D_paper_dsb2018')\n",
    "    model = StarDist2D.from_pretrained('2D_versatile_fluo')\n",
    "else:\n",
    "    model = StarDist2D(None, name='stardist', basedir='models')\n",
    "None;"
   ]
  },
  {
   "cell_type": "code",
   "execution_count": null,
   "metadata": {},
   "outputs": [],
   "source": [
    "img = normalize(X[0], 1,99.8, axis=axis_norm)\n",
    "labels, details = model.predict_instances(img)\n",
    "\n",
    "plt.figure(figsize=(15,5))\n",
    "img_show = img if img.ndim==2 else img[...,0]\n",
    "coord, points, prob = details['coord'], details['points'], details['prob']\n",
    "\n",
    "plt.subplot(131);\n",
    "plt.imshow(img_show, cmap='gray');\n",
    "plt.axis('off')\n",
    "a = plt.axis()\n",
    "plt.title(\"Image\")\n",
    "\n",
    "plt.subplot(132);\n",
    "plt.imshow(img_show, cmap='gray');\n",
    "plt.axis('off')\n",
    "_draw_polygons(coord, points, prob, show_dist=True)\n",
    "plt.axis(a)\n",
    "plt.title(\"Prediction polygons\")\n",
    "\n",
    "plt.subplot(133);\n",
    "plt.imshow(img_show, cmap='gray');\n",
    "plt.axis('off')\n",
    "plt.axis(a)\n",
    "plt.imshow(labels, cmap=lbl_cmap, alpha=0.5)\n",
    "plt.title(\"Prediction map\")\n",
    "\n",
    "plt.tight_layout()\n",
    "plt.show()"
   ]
  }
 ],
 "metadata": {
  "kernelspec": {
   "display_name": "Python 3 (ipykernel)",
   "language": "python",
   "name": "python3"
  },
  "language_info": {
   "codemirror_mode": {
    "name": "ipython",
    "version": 3
   },
   "file_extension": ".py",
   "mimetype": "text/x-python",
   "name": "python",
   "nbconvert_exporter": "python",
   "pygments_lexer": "ipython3",
   "version": "3.9.6"
  }
 },
 "nbformat": 4,
 "nbformat_minor": 4
}
